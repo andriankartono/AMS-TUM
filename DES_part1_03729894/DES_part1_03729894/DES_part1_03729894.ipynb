{
 "cells": [
  {
   "cell_type": "markdown",
   "metadata": {},
   "source": [
    "# Johanes Andrian Kartono 03729894\n",
    "\n",
    "<h3> Answers to Analysis and General Questions </h3>\n",
    "<h4> Task 1.6.1: Event-based Simulator </h4>\n",
    "\n",
    "Why is it feasible to use Next-Event Time Advance simulator and not Fixed-Increment Time\n",
    "Advance simulator for the considered system? Give at least one example when utilizing Next Event Time Advance would not be efficient or possible?"
   ]
  },
  {
   "cell_type": "markdown",
   "metadata": {},
   "source": [
    "> In our system next-event time advance simulator is the best option as we know that the system states remain constant until the next event happens and the events happen with a reasonable frequency. On the other hand fixed-increment time advance is not feasible because state changes does not occur in fixed time intervals but happens randomly (as specified by the task: distributed uniformly) within a time interval. This means that if we used fixed-increment time advance, certain events will not occur at the exact time. \n",
    ">\n",
    "> It is of course possible to reduce the time increment to a really small one and obtain similar results to the next-event time advance simulator but this will need a lot of computational power which is completely inefficient as we don't always know the frequency of events (think events happening at rate of 50s^-1 but the increment is per 1 ms) and might waste the computational power.\n",
    ">\n",
    "> An example case where next-event time advance simulator is not feasible is when the frequency of events are really high or in a continuous fashion (e.g. network telemetry). High frequency events would also mean a high requirement of computational power --> there might not be enough resource to process everything. Here a fixed-increment time advance simulator can be used to reduce the amount of performance required."
   ]
  },
  {
   "cell_type": "markdown",
   "metadata": {},
   "source": [
    "<h4> Task 1.6.2: Event Chain Structure </h4>\n",
    "\n",
    "Explain why it makes sense to use a heap as your data structure for the event chain instead of other data structures."
   ]
  },
  {
   "cell_type": "markdown",
   "metadata": {},
   "source": [
    ">A heap is useful as it gives quick access to the largest/smallest element of the data structure. This feature is especially useful since we are always taking the highest priority element in the heap which depending on implementation is located at either ends of the heap. Another feature that is interesting regarding the heap is that other than the highest priority element, it is only partially sorted which makes insertion fast but this is not a reason to pick heap here."
   ]
  },
  {
   "cell_type": "markdown",
   "metadata": {},
   "source": [
    "<h4>Task 1.6.3: Emergency Termination</h4>\n",
    "\n",
    "In your implementation, the simulation is terminated upon the processing of the SimulationTermination event according to its timestamp. Imagine you would like to include another event\n",
    "called EmergencyTermination defined as follows:\n",
    "\n",
    "```python\n",
    "class EmergencyTermination(SimEvent):\n",
    "\"\"\"\n",
    "Defines the emergency termination of a simulation.\n",
    "\"\"\"\n",
    "def __init__(self, sim, timestamp):\n",
    "\"\"\"\n",
    "Create an emergency simulation termination event\n",
    "independent of the execution time.\n",
    "Order of an emergency simulation termination\n",
    "event is set to the flag \"Emergency\"\n",
    "\"\"\"\n",
    "super(EmergencyTermination, self).__init__(sim, timestamp)\n",
    "self.order = \"Emergency\"\n",
    "```\n",
    "\n",
    "Upon the insertion of the EmergencyTermination event to the event chain, the simulation\n",
    "should stop immediately independent of EmergencyTermination timestamp and the current simulation time. Using the ”Emergency” flag set to the order attribute, how would you modify\n",
    "the __lt__() method of SimEvent, such that the EventChain processes the EmergencyTermination event according to the specified functionality?"
   ]
  },
  {
   "cell_type": "markdown",
   "metadata": {},
   "source": [
    ">The basic idea of the change is that values with the order attribute \"Emergency\" now needs to have the highest priority in the heap (i.e. it needs to be sorted as the smallest element). There are multiple ways how to implement this but the simplest idea would probably be using an if clause inside the \\_\\_lt__() function\n",
    ">\n",
    "```python\n",
    "def __lt__():\n",
    "    if self.order == \"Emergency\":\n",
    "        return True\n",
    "\n",
    "    # previous implementation\n",
    "    if self.timestamp == other.timestamp:\n",
    "        return self.order < other.order\n",
    "    else:\n",
    "        return self.timestamp < other.timestamp\n",
    "```\n",
    ">\n",
    ">this way the code exits directly and return true if the string \"Emergency\" is found. Otherwise it will continue with the previous implementation of \\_\\_lt__(). One thing to note is that a string cannot be compared to an integer and this special case therefore needs to watched out for."
   ]
  },
  {
   "cell_type": "markdown",
   "metadata": {},
   "source": [
    "<h3> Simulation Study 1 </h3>\n",
    "<h4> Task 1.7.1: Utilization Determination I </h4>\n",
    "\n",
    "Find out what is the maximum utilization ρ =λ/µ that the system with S = 4 can handle such that after 100 s, less than 5 packets are lost in at least 95% of 1000 simulation runs. Keep the service rate default, i.e., µ = 0.0015. and vary arrival rate λ. Determine ρ to the precision of two decimal places (i.e., in the format x.xx). Describe your idea how to design the simulation runs to achieve this goal. Think about cases, when you are close to fulfilling or not fulfilling the requirements and how you could assure a correct result in these cases."
   ]
  },
  {
   "cell_type": "markdown",
   "metadata": {},
   "source": [
    "> An initial thought is to basically execute the simulation run for different parameters and brute force it. However it is definitely better to make an educated guess to shorten the amount of time required for simulating. The method that I will execute is to find the answer per order of magnitude (i.e. search for the 0.1th place of utilization and then find the next decimal place). Since utilization cannot be bigger than 1 (unless we want a lossy system), we can safely assume that the answer is between 0.01 and 0.99 (0.00 is excluded since it doesn't make sense to simulate)"
   ]
  },
  {
   "cell_type": "code",
   "execution_count": 1,
   "metadata": {},
   "outputs": [
    {
     "name": "stdout",
     "output_type": "stream",
     "text": [
      "Utilization Rate = 0.01 | 1000 successes out of 1000 runs \n",
      "Utilization Rate = 0.02 | 1000 successes out of 1000 runs \n",
      "Utilization Rate = 0.03 | 1000 successes out of 1000 runs \n",
      "Utilization Rate = 0.04 | 1000 successes out of 1000 runs \n",
      "Utilization Rate = 0.05 | 1000 successes out of 1000 runs \n",
      "Utilization Rate = 0.06 | 1000 successes out of 1000 runs \n",
      "Utilization Rate = 0.07 | 1000 successes out of 1000 runs \n",
      "Utilization Rate = 0.08 | 1000 successes out of 1000 runs \n",
      "Utilization Rate = 0.09 | 1000 successes out of 1000 runs \n",
      "Utilization Rate = 0.1 | 1000 successes out of 1000 runs \n",
      "Utilization Rate = 0.11 | 1000 successes out of 1000 runs \n",
      "Utilization Rate = 0.12 | 1000 successes out of 1000 runs \n",
      "Utilization Rate = 0.13 | 1000 successes out of 1000 runs \n",
      "Utilization Rate = 0.14 | 1000 successes out of 1000 runs \n",
      "Utilization Rate = 0.15 | 1000 successes out of 1000 runs \n",
      "Utilization Rate = 0.16 | 1000 successes out of 1000 runs \n",
      "Utilization Rate = 0.17 | 1000 successes out of 1000 runs \n",
      "Utilization Rate = 0.18 | 1000 successes out of 1000 runs \n",
      "Utilization Rate = 0.19 | 1000 successes out of 1000 runs \n",
      "Utilization Rate = 0.2 | 1000 successes out of 1000 runs \n",
      "Utilization Rate = 0.21 | 1000 successes out of 1000 runs \n",
      "Utilization Rate = 0.22 | 1000 successes out of 1000 runs \n",
      "Utilization Rate = 0.23 | 1000 successes out of 1000 runs \n",
      "Utilization Rate = 0.24 | 1000 successes out of 1000 runs \n",
      "Utilization Rate = 0.25 | 1000 successes out of 1000 runs \n",
      "Utilization Rate = 0.26 | 1000 successes out of 1000 runs \n",
      "Utilization Rate = 0.27 | 1000 successes out of 1000 runs \n",
      "Utilization Rate = 0.28 | 1000 successes out of 1000 runs \n",
      "Utilization Rate = 0.29 | 1000 successes out of 1000 runs \n",
      "Utilization Rate = 0.3 | 1000 successes out of 1000 runs \n",
      "Utilization Rate = 0.31 | 1000 successes out of 1000 runs \n",
      "Utilization Rate = 0.32 | 1000 successes out of 1000 runs \n",
      "Utilization Rate = 0.33 | 1000 successes out of 1000 runs \n",
      "Utilization Rate = 0.34 | 1000 successes out of 1000 runs \n",
      "Utilization Rate = 0.35000000000000003 | 1000 successes out of 1000 runs \n",
      "Utilization Rate = 0.36 | 1000 successes out of 1000 runs \n",
      "Utilization Rate = 0.37 | 1000 successes out of 1000 runs \n",
      "Utilization Rate = 0.38 | 1000 successes out of 1000 runs \n",
      "Utilization Rate = 0.39 | 1000 successes out of 1000 runs \n",
      "Utilization Rate = 0.4 | 1000 successes out of 1000 runs \n",
      "Utilization Rate = 0.41000000000000003 | 1000 successes out of 1000 runs \n",
      "Utilization Rate = 0.42 | 1000 successes out of 1000 runs \n",
      "Utilization Rate = 0.43 | 1000 successes out of 1000 runs \n",
      "Utilization Rate = 0.44 | 1000 successes out of 1000 runs \n",
      "Utilization Rate = 0.45 | 1000 successes out of 1000 runs \n",
      "Utilization Rate = 0.46 | 1000 successes out of 1000 runs \n",
      "Utilization Rate = 0.47000000000000003 | 1000 successes out of 1000 runs \n",
      "Utilization Rate = 0.48 | 1000 successes out of 1000 runs \n",
      "Utilization Rate = 0.49 | 1000 successes out of 1000 runs \n",
      "Utilization Rate = 0.5 | 1000 successes out of 1000 runs \n",
      "Utilization Rate = 0.51 | 1000 successes out of 1000 runs \n",
      "Utilization Rate = 0.52 | 1000 successes out of 1000 runs \n",
      "Utilization Rate = 0.53 | 1000 successes out of 1000 runs \n",
      "Utilization Rate = 0.54 | 999 successes out of 1000 runs \n",
      "Utilization Rate = 0.55 | 1000 successes out of 1000 runs \n",
      "Utilization Rate = 0.56 | 1000 successes out of 1000 runs \n",
      "Utilization Rate = 0.5700000000000001 | 1000 successes out of 1000 runs \n",
      "Utilization Rate = 0.58 | 1000 successes out of 1000 runs \n",
      "Utilization Rate = 0.59 | 1000 successes out of 1000 runs \n",
      "Utilization Rate = 0.6 | 1000 successes out of 1000 runs \n",
      "Utilization Rate = 0.61 | 1000 successes out of 1000 runs \n",
      "Utilization Rate = 0.62 | 1000 successes out of 1000 runs \n",
      "Utilization Rate = 0.63 | 1000 successes out of 1000 runs \n",
      "Utilization Rate = 0.64 | 1000 successes out of 1000 runs \n",
      "Utilization Rate = 0.65 | 1000 successes out of 1000 runs \n",
      "Utilization Rate = 0.66 | 1000 successes out of 1000 runs \n",
      "Utilization Rate = 0.67 | 1000 successes out of 1000 runs \n",
      "Utilization Rate = 0.68 | 999 successes out of 1000 runs \n",
      "Utilization Rate = 0.6900000000000001 | 1000 successes out of 1000 runs \n",
      "Utilization Rate = 0.7000000000000001 | 1000 successes out of 1000 runs \n",
      "Utilization Rate = 0.71 | 999 successes out of 1000 runs \n",
      "Utilization Rate = 0.72 | 1000 successes out of 1000 runs \n",
      "Utilization Rate = 0.73 | 1000 successes out of 1000 runs \n",
      "Utilization Rate = 0.74 | 999 successes out of 1000 runs \n",
      "Utilization Rate = 0.75 | 999 successes out of 1000 runs \n",
      "Utilization Rate = 0.76 | 998 successes out of 1000 runs \n",
      "Utilization Rate = 0.77 | 999 successes out of 1000 runs \n",
      "Utilization Rate = 0.78 | 997 successes out of 1000 runs \n",
      "Utilization Rate = 0.79 | 995 successes out of 1000 runs \n",
      "Utilization Rate = 0.8 | 993 successes out of 1000 runs \n",
      "Utilization Rate = 0.81 | 994 successes out of 1000 runs \n",
      "Utilization Rate = 0.8200000000000001 | 980 successes out of 1000 runs \n",
      "Utilization Rate = 0.8300000000000001 | 986 successes out of 1000 runs \n",
      "Utilization Rate = 0.84 | 980 successes out of 1000 runs \n",
      "Utilization Rate = 0.85 | 976 successes out of 1000 runs \n",
      "Utilization Rate = 0.86 | 965 successes out of 1000 runs \n",
      "Utilization Rate = 0.87 | 956 successes out of 1000 runs \n",
      "Utilization Rate = 0.88 | 942 successes out of 1000 runs \n",
      "Utilization Rate = 0.89 | 927 successes out of 1000 runs \n",
      "Utilization Rate = 0.9 | 902 successes out of 1000 runs \n",
      "Utilization Rate = 0.91 | 903 successes out of 1000 runs \n",
      "Utilization Rate = 0.92 | 856 successes out of 1000 runs \n",
      "Utilization Rate = 0.93 | 842 successes out of 1000 runs \n",
      "Utilization Rate = 0.9400000000000001 | 773 successes out of 1000 runs \n",
      "Utilization Rate = 0.9500000000000001 | 764 successes out of 1000 runs \n",
      "Utilization Rate = 0.96 | 715 successes out of 1000 runs \n",
      "Utilization Rate = 0.97 | 656 successes out of 1000 runs \n",
      "Utilization Rate = 0.98 | 572 successes out of 1000 runs \n",
      "Utilization Rate = 0.99 | 529 successes out of 1000 runs \n"
     ]
    }
   ],
   "source": [
    "from simstudy1 import task_1_7_1_1\n",
    "\n",
    "task_1_7_1_1()"
   ]
  },
  {
   "cell_type": "markdown",
   "metadata": {},
   "source": [
    "> as can be seen from the output above, the limit is around 0.85 to 0.9 utilization rate (+- 30 successes from target=950). It is definitely possible that the output of the simulation have some deviation such as in this example run\n",
    ">\n",
    "> Utilization Rate = 0.86 | 972 successes out of 1000 runs \n",
    "> Utilization Rate = 0.87 | 938 successes out of 1000 runs \n",
    "> Utilization Rate = 0.88 | 960 successes out of 1000 runs \n",
    ">\n",
    "> A possible solution to assure a correct result in this case is to run the simulation multiple times specifically to the feasible range of utilization rate (0.85-0.9) and use the average as the de facto result of the simulation. In my case, I will use 10 as the number of times to repeat the simulation but ideally the simulation is run for a large number of times before taking the average (ideal case n = infinite)."
   ]
  },
  {
   "cell_type": "code",
   "execution_count": 2,
   "metadata": {},
   "outputs": [
    {
     "name": "stdout",
     "output_type": "stream",
     "text": [
      "Utilization Rate = 0.85 | 974.5 successes out of 1000 runs \n",
      "Utilization Rate = 0.86 | 968.8 successes out of 1000 runs \n",
      "Utilization Rate = 0.87 | 956.2 successes out of 1000 runs \n",
      "Utilization Rate = 0.88 | 947.5 successes out of 1000 runs \n",
      "Utilization Rate = 0.89 | 930.8 successes out of 1000 runs \n",
      "Utilization Rate = 0.9 | 910.1 successes out of 1000 runs \n"
     ]
    }
   ],
   "source": [
    "from simstudy1 import task_1_7_1_2\n",
    "\n",
    "task_1_7_1_2(85,91)"
   ]
  },
  {
   "cell_type": "markdown",
   "metadata": {},
   "source": [
    "> From the result above, we can confirm that 0.87 is the maximum utilization rate that we can use to reach stated conditions\n",
    ">\n",
    "> A small note is that here I use average on the number of successes from 1000 simulation run. An alternative way is to set a threshold where you expect for example at least 8 out the 10 retries to have success above 950. This method should also work fine since in our case the deviation is not extreme between every simulation with the same parameters"
   ]
  },
  {
   "cell_type": "markdown",
   "metadata": {},
   "source": [
    "<h4>Task 1.7.2: Offered Traffic Determination II</h4>\n",
    "\n",
    "Which ρ will you get if you change µ to 0.015 and want to have less than 50 dropped packets in 95% of the cases? Describe your observations!"
   ]
  },
  {
   "cell_type": "code",
   "execution_count": 3,
   "metadata": {},
   "outputs": [
    {
     "name": "stdout",
     "output_type": "stream",
     "text": [
      "Utilization Rate = 0.01 | 1000 successes out of 1000 runs \n",
      "Utilization Rate = 0.02 | 1000 successes out of 1000 runs \n",
      "Utilization Rate = 0.03 | 1000 successes out of 1000 runs \n",
      "Utilization Rate = 0.04 | 1000 successes out of 1000 runs \n",
      "Utilization Rate = 0.05 | 1000 successes out of 1000 runs \n",
      "Utilization Rate = 0.06 | 1000 successes out of 1000 runs \n",
      "Utilization Rate = 0.07 | 1000 successes out of 1000 runs \n",
      "Utilization Rate = 0.08 | 1000 successes out of 1000 runs \n",
      "Utilization Rate = 0.09 | 1000 successes out of 1000 runs \n",
      "Utilization Rate = 0.1 | 1000 successes out of 1000 runs \n",
      "Utilization Rate = 0.11 | 1000 successes out of 1000 runs \n",
      "Utilization Rate = 0.12 | 1000 successes out of 1000 runs \n",
      "Utilization Rate = 0.13 | 1000 successes out of 1000 runs \n",
      "Utilization Rate = 0.14 | 1000 successes out of 1000 runs \n",
      "Utilization Rate = 0.15 | 1000 successes out of 1000 runs \n",
      "Utilization Rate = 0.16 | 1000 successes out of 1000 runs \n",
      "Utilization Rate = 0.17 | 1000 successes out of 1000 runs \n",
      "Utilization Rate = 0.18 | 1000 successes out of 1000 runs \n",
      "Utilization Rate = 0.19 | 1000 successes out of 1000 runs \n",
      "Utilization Rate = 0.2 | 1000 successes out of 1000 runs \n",
      "Utilization Rate = 0.21 | 1000 successes out of 1000 runs \n",
      "Utilization Rate = 0.22 | 1000 successes out of 1000 runs \n",
      "Utilization Rate = 0.23 | 1000 successes out of 1000 runs \n",
      "Utilization Rate = 0.24 | 1000 successes out of 1000 runs \n",
      "Utilization Rate = 0.25 | 1000 successes out of 1000 runs \n",
      "Utilization Rate = 0.26 | 1000 successes out of 1000 runs \n",
      "Utilization Rate = 0.27 | 1000 successes out of 1000 runs \n",
      "Utilization Rate = 0.28 | 1000 successes out of 1000 runs \n",
      "Utilization Rate = 0.29 | 1000 successes out of 1000 runs \n",
      "Utilization Rate = 0.3 | 1000 successes out of 1000 runs \n",
      "Utilization Rate = 0.31 | 1000 successes out of 1000 runs \n",
      "Utilization Rate = 0.32 | 1000 successes out of 1000 runs \n",
      "Utilization Rate = 0.33 | 1000 successes out of 1000 runs \n",
      "Utilization Rate = 0.34 | 1000 successes out of 1000 runs \n",
      "Utilization Rate = 0.35000000000000003 | 1000 successes out of 1000 runs \n",
      "Utilization Rate = 0.36 | 1000 successes out of 1000 runs \n",
      "Utilization Rate = 0.37 | 1000 successes out of 1000 runs \n",
      "Utilization Rate = 0.38 | 1000 successes out of 1000 runs \n",
      "Utilization Rate = 0.39 | 1000 successes out of 1000 runs \n",
      "Utilization Rate = 0.4 | 1000 successes out of 1000 runs \n",
      "Utilization Rate = 0.41000000000000003 | 1000 successes out of 1000 runs \n",
      "Utilization Rate = 0.42 | 1000 successes out of 1000 runs \n",
      "Utilization Rate = 0.43 | 1000 successes out of 1000 runs \n",
      "Utilization Rate = 0.44 | 1000 successes out of 1000 runs \n",
      "Utilization Rate = 0.45 | 1000 successes out of 1000 runs \n",
      "Utilization Rate = 0.46 | 1000 successes out of 1000 runs \n",
      "Utilization Rate = 0.47000000000000003 | 1000 successes out of 1000 runs \n",
      "Utilization Rate = 0.48 | 1000 successes out of 1000 runs \n",
      "Utilization Rate = 0.49 | 1000 successes out of 1000 runs \n",
      "Utilization Rate = 0.5 | 1000 successes out of 1000 runs \n",
      "Utilization Rate = 0.51 | 1000 successes out of 1000 runs \n",
      "Utilization Rate = 0.52 | 1000 successes out of 1000 runs \n",
      "Utilization Rate = 0.53 | 1000 successes out of 1000 runs \n",
      "Utilization Rate = 0.54 | 1000 successes out of 1000 runs \n",
      "Utilization Rate = 0.55 | 1000 successes out of 1000 runs \n",
      "Utilization Rate = 0.56 | 1000 successes out of 1000 runs \n",
      "Utilization Rate = 0.5700000000000001 | 1000 successes out of 1000 runs \n",
      "Utilization Rate = 0.58 | 1000 successes out of 1000 runs \n",
      "Utilization Rate = 0.59 | 1000 successes out of 1000 runs \n",
      "Utilization Rate = 0.6 | 1000 successes out of 1000 runs \n",
      "Utilization Rate = 0.61 | 1000 successes out of 1000 runs \n",
      "Utilization Rate = 0.62 | 1000 successes out of 1000 runs \n",
      "Utilization Rate = 0.63 | 1000 successes out of 1000 runs \n",
      "Utilization Rate = 0.64 | 1000 successes out of 1000 runs \n",
      "Utilization Rate = 0.65 | 1000 successes out of 1000 runs \n",
      "Utilization Rate = 0.66 | 1000 successes out of 1000 runs \n",
      "Utilization Rate = 0.67 | 1000 successes out of 1000 runs \n",
      "Utilization Rate = 0.68 | 1000 successes out of 1000 runs \n",
      "Utilization Rate = 0.6900000000000001 | 1000 successes out of 1000 runs \n",
      "Utilization Rate = 0.7000000000000001 | 1000 successes out of 1000 runs \n",
      "Utilization Rate = 0.71 | 1000 successes out of 1000 runs \n",
      "Utilization Rate = 0.72 | 1000 successes out of 1000 runs \n",
      "Utilization Rate = 0.73 | 1000 successes out of 1000 runs \n",
      "Utilization Rate = 0.74 | 1000 successes out of 1000 runs \n",
      "Utilization Rate = 0.75 | 1000 successes out of 1000 runs \n",
      "Utilization Rate = 0.76 | 1000 successes out of 1000 runs \n",
      "Utilization Rate = 0.77 | 1000 successes out of 1000 runs \n",
      "Utilization Rate = 0.78 | 1000 successes out of 1000 runs \n",
      "Utilization Rate = 0.79 | 1000 successes out of 1000 runs \n",
      "Utilization Rate = 0.8 | 1000 successes out of 1000 runs \n",
      "Utilization Rate = 0.81 | 1000 successes out of 1000 runs \n",
      "Utilization Rate = 0.8200000000000001 | 1000 successes out of 1000 runs \n",
      "Utilization Rate = 0.8300000000000001 | 1000 successes out of 1000 runs \n",
      "Utilization Rate = 0.84 | 1000 successes out of 1000 runs \n",
      "Utilization Rate = 0.85 | 1000 successes out of 1000 runs \n",
      "Utilization Rate = 0.86 | 1000 successes out of 1000 runs \n",
      "Utilization Rate = 0.87 | 1000 successes out of 1000 runs \n",
      "Utilization Rate = 0.88 | 1000 successes out of 1000 runs \n",
      "Utilization Rate = 0.89 | 1000 successes out of 1000 runs \n",
      "Utilization Rate = 0.9 | 1000 successes out of 1000 runs \n",
      "Utilization Rate = 0.91 | 1000 successes out of 1000 runs \n",
      "Utilization Rate = 0.92 | 1000 successes out of 1000 runs \n",
      "Utilization Rate = 0.93 | 1000 successes out of 1000 runs \n",
      "Utilization Rate = 0.9400000000000001 | 994 successes out of 1000 runs \n",
      "Utilization Rate = 0.9500000000000001 | 986 successes out of 1000 runs \n",
      "Utilization Rate = 0.96 | 946 successes out of 1000 runs \n",
      "Utilization Rate = 0.97 | 871 successes out of 1000 runs \n",
      "Utilization Rate = 0.98 | 739 successes out of 1000 runs \n",
      "Utilization Rate = 0.99 | 582 successes out of 1000 runs \n"
     ]
    }
   ],
   "source": [
    "from simstudy1 import task_1_7_2_1\n",
    "task_1_7_2_1()"
   ]
  },
  {
   "cell_type": "code",
   "execution_count": 4,
   "metadata": {},
   "outputs": [
    {
     "name": "stdout",
     "output_type": "stream",
     "text": [
      "Utilization Rate = 0.9500000000000001 | 979.9 successes out of 1000 runs \n",
      "Utilization Rate = 0.96 | 949.9 successes out of 1000 runs \n",
      "Utilization Rate = 0.97 | 875 successes out of 1000 runs \n"
     ]
    }
   ],
   "source": [
    "from simstudy1 import task_1_7_2_2\n",
    "\n",
    "task_1_7_2_2(95,98)"
   ]
  },
  {
   "cell_type": "markdown",
   "metadata": {},
   "source": [
    "> An observation is that the simulation time increased. This makes sense as the number of events increased when we increase the service rate. The arrival rate that is designed as a percentage of the service rate would increase proportionally. \n",
    ">\n",
    "> Regarding the result it can be seen that the maximum utilization rate for 50 dropped packets in 95% of the cases is around 95% to 97% which is a really high utilization rate. The high utilization rate can be attributed to the high tolerance of the system (50 dropped packet) that is defined in the task description. After using the average, we found out that the maximum of the system is located at 95% as 96% have less than 95% rate of success."
   ]
  },
  {
   "cell_type": "markdown",
   "metadata": {},
   "source": [
    "<h4>Task 1.7.3: Comparison of Results</h4>\n",
    "\n",
    "Compare the results of task 1.7.1 and task 1.7.2. Does the system behave differently or not? Explain your observations! Hint: Think about the distribution of the blocking probability per run. Possible solution: Plotting cumulative distribution functions of the blocking probabilities might be helpful."
   ]
  },
  {
   "cell_type": "markdown",
   "metadata": {},
   "source": [
    "> Implementation: Set the service rate for graph 1 to 0.0015 and the other one to 0.015. The blocking probability will be on the x axis and the cdf will be the y axis.\n",
    "To get the distribution, we will run the simulation 100 times, save the result in a list and then generate the cdf.\n",
    ">\n",
    "> Result: The result is that we have a smoother curve for the second system. At a glance, the system looks different but if we analyze the probability distributions of both curve, the first curve look like a discrete uniform distribution and the second one looks like a continuous uniform distribution function. This is interesting because we can see that they have similar distribution only that one is discrete and the other is uniform.\n",
    "> A possible interpretation/reason for this difference is the order of the system (10^-3 vs 10^-4). The plot is better suited for a higher magnitude and there are values in between the \"bins\" (caused by np.linspace) which cannot be expressed properly as we used frequency count when generating the plot. If we create a more accurate plot, then it might be possible that the two system will show similar distribution with different standard deviation/variance."
   ]
  },
  {
   "cell_type": "code",
   "execution_count": 1,
   "metadata": {},
   "outputs": [
    {
     "data": {
      "image/png": "[encoded data removed]",
      "text/plain": [
       "<Figure size 640x480 with 1 Axes>"
      ]
     },
     "metadata": {},
     "output_type": "display_data"
    }
   ],
   "source": [
    "from simstudy1 import task_1_7_3\n",
    "\n",
    "task_1_7_3()"
   ]
  }
 ],
 "metadata": {
  "kernelspec": {
   "display_name": "Python 3",
   "language": "python",
   "name": "python3"
  },
  "language_info": {
   "codemirror_mode": {
    "name": "ipython",
    "version": 3
   },
   "file_extension": ".py",
   "mimetype": "text/x-python",
   "name": "python",
   "nbconvert_exporter": "python",
   "pygments_lexer": "ipython3",
   "version": "3.11.5"
  }
 },
 "nbformat": 4,
 "nbformat_minor": 2
}
